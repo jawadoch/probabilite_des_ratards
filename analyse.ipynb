{
 "cells": [
  {
   "cell_type": "markdown",
   "id": "7d77196a",
   "metadata": {},
   "source": [
    "# Partie pratique: Simulation de la Distribuation Gamma"
   ]
  },
  {
   "cell_type": "markdown",
   "id": "0a6f9697",
   "metadata": {},
   "source": [
    "## Objectif:\n",
    "L'objectif de cette simulation est :\n",
    "- Exploiter la distribution de Gamma pour prédire la probabilité de retard d'un vole aérien a une durée donnée. \n",
    "- Calculer les paramètres $α$ et $β$ de la `loi gamma` à partir des données collectees concernant le `retard des vol aérien d'arrivée aux État Unis`.\n",
    "\n",
    "- Visualiser la Fonction de Densité $f_{α,β}$. \n",
    "$$\\begin{align*}  \n",
    "\\;  f_{α,β}(x) &= \\frac{x^{(α-1)}e^{\\frac{x}{β}}}{β^{\\alpha}\\Gamma^{\\alpha}} \\tag{1}  \\; \n",
    "\\end{align*}$$\n",
    "\n",
    "- Visualiser la Fonction de Densité $F$ de la loi gamma.\n",
    "$$\\begin{align*}  \n",
    "        \\;  F(x) &= \\int_0^x f_{α,β}(x) \\,dx  \\tag{2}  \\; \n",
    "\\end{align*}$$"
   ]
  },
  {
   "cell_type": "markdown",
   "id": "23e499c9",
   "metadata": {},
   "source": [
    "## Description du Dataframe - (Table de Donnée) utilisée:"
   ]
  },
  {
   "cell_type": "markdown",
   "id": "91c59efc",
   "metadata": {},
   "source": [
    "Le `Dataframe` se compose des détails d'arrivée et de départ de tous les vols aux États-Unis de Janvier 2008 à Decembre 2008. Il s'agit d'un grand ensembles des donnees: \n",
    "- Il y'a presque plus de 1.5 millions d'enreginstrements au total.\n",
    "\n",
    "Il est d'origine du Bureau de Transportation Statistics *(BTS)* du Département américain des transports *(DOT)* qu'ont collectee ces enregistrements pour le but de suivre la ponctualité des vols interieurs opérés par les grands transporteurs aériens pour l'annee 2008.\n",
    "Ces enregistrements contients des informations tres utiles sur : \n",
    "- Identifiants des vols \n",
    "- Nombre de vols a l'heurs / jour / mois\n",
    "- Nombre des vols annulees \n",
    "- Nombre des vols retardees \n",
    "- ...."
   ]
  },
  {
   "cell_type": "markdown",
   "id": "81f5e9ab",
   "metadata": {},
   "source": [
    "## Outiles et Packages:"
   ]
  },
  {
   "cell_type": "markdown",
   "id": "e2cb0084",
   "metadata": {},
   "source": [
    "Dans cette simulation nous utilisirons : \n",
    "- `NumPy`, une bibliothèque populaire pour le calcul scientifique\n",
    "- `Matplotlib`, une bibliothèque populaire pour tracer des données\n",
    "- `Pandas`, bibliothèque populaire en Python pour la manipulation et l'analyse de données\n",
    "- `scipy.stats`, un module de la bibliothèque SciPy qui fournit des fonctions statistiques et des distributions de probabilité"
   ]
  },
  {
   "cell_type": "code",
   "execution_count": 1,
   "id": "b365e7e8",
   "metadata": {},
   "outputs": [],
   "source": [
    "#importer les packages \n",
    "import pandas as pd\n",
    "import numpy as np\n",
    "import matplotlib.pyplot as plt\n",
    "import scipy.stats as stats"
   ]
  },
  {
   "cell_type": "markdown",
   "id": "df9322fa",
   "metadata": {},
   "source": [
    "## Énoncé du problème"
   ]
  },
  {
   "cell_type": "markdown",
   "id": "a4c1206e",
   "metadata": {},
   "source": [
    "Ces lignes de code permettent de lire un fichier `CSV - Comma-Separated Values` contenant des données sur les vols et d'effectuer une vérification sur la colonne \"ArrDelay\" pour compter le nombre de valeurs manquantes (NaN).\n",
    "\n",
    "- `df = pd.read_csv('fly.csv')` : permet de lire le fichier *CSV* appelé **fly.csv** et stocker les données dans un type de structure de donneés appellée  DataFrame nommé *df*. \n",
    "- `df['ArrDelay']` : Cette partie du code sélectionne la colonne **ArrDelay** du DataFrame **df**.\n",
    "- `isnull()` : Méthode qui renvoie une valeur booléenne *(True/False)* pour chaque élément de la colonne. La valeur est True si l'élément est manquant *(NaN)*, sinon False.\n",
    "- `sum()`, Méthode qui calcule la somme des valeurs booléennes. Lorsqu'elle est utilisée après `isnull()`, elle renvoie le nombre total de valeurs manquantes dans la colonne **\"ArrDelay\"**."
   ]
  },
  {
   "cell_type": "code",
   "execution_count": 2,
   "id": "0bd80dd8",
   "metadata": {},
   "outputs": [
    {
     "name": "stdout",
     "output_type": "stream",
     "text": [
      "le nombre des cellules null est : 8387\n"
     ]
    }
   ],
   "source": [
    "# lire les donnees a partir du fichier 'fly.csv' d'extension .csv\n",
    "df=pd.read_csv('fly.csv')\n",
    "# calculer le nombre des cellule vide - NULL\n",
    "print('le nombre des cellules null est : ' + str(df['ArrDelay'].isnull().sum()))"
   ]
  },
  {
   "cell_type": "markdown",
   "id": "bac67c7e",
   "metadata": {},
   "source": [
    "<br><br>\n",
    "`df.info()`, Methode d'obtention des informations détaillées sur un DataFrame, y compris: \n",
    "- le nombre total d'entrées, \n",
    "- le type de données de chaque colonne \n",
    "- le nombre de valeurs non nulles dans chaque colonne\n",
    "- la quantité du memoire consacrée"
   ]
  },
  {
   "cell_type": "code",
   "execution_count": 3,
   "id": "de28e548",
   "metadata": {},
   "outputs": [
    {
     "name": "stdout",
     "output_type": "stream",
     "text": [
      "<class 'pandas.core.frame.DataFrame'>\n",
      "RangeIndex: 1936758 entries, 0 to 1936757\n",
      "Data columns (total 30 columns):\n",
      " #   Column             Dtype  \n",
      "---  ------             -----  \n",
      " 0   Unnamed: 0         int64  \n",
      " 1   Year               int64  \n",
      " 2   Month              int64  \n",
      " 3   DayofMonth         int64  \n",
      " 4   DayOfWeek          int64  \n",
      " 5   DepTime            float64\n",
      " 6   CRSDepTime         int64  \n",
      " 7   ArrTime            float64\n",
      " 8   CRSArrTime         int64  \n",
      " 9   UniqueCarrier      object \n",
      " 10  FlightNum          int64  \n",
      " 11  TailNum            object \n",
      " 12  ActualElapsedTime  float64\n",
      " 13  CRSElapsedTime     float64\n",
      " 14  AirTime            float64\n",
      " 15  ArrDelay           float64\n",
      " 16  DepDelay           float64\n",
      " 17  Origin             object \n",
      " 18  Dest               object \n",
      " 19  Distance           int64  \n",
      " 20  TaxiIn             float64\n",
      " 21  TaxiOut            float64\n",
      " 22  Cancelled          int64  \n",
      " 23  CancellationCode   object \n",
      " 24  Diverted           int64  \n",
      " 25  CarrierDelay       float64\n",
      " 26  WeatherDelay       float64\n",
      " 27  NASDelay           float64\n",
      " 28  SecurityDelay      float64\n",
      " 29  LateAircraftDelay  float64\n",
      "dtypes: float64(14), int64(11), object(5)\n",
      "memory usage: 443.3+ MB\n"
     ]
    }
   ],
   "source": [
    "df.info()"
   ]
  },
  {
   "cell_type": "markdown",
   "id": "7349f842",
   "metadata": {},
   "source": [
    "<br><br>\n",
    "`df.select_dtypes(include='object').nunique()` va nous permettre de determiner le nombre des valeurs unique a partir de tous les columns de types *object*."
   ]
  },
  {
   "cell_type": "code",
   "execution_count": 4,
   "id": "a564fd03",
   "metadata": {},
   "outputs": [
    {
     "data": {
      "text/plain": [
       "UniqueCarrier         20\n",
       "TailNum             5366\n",
       "Origin               303\n",
       "Dest                 304\n",
       "CancellationCode       4\n",
       "dtype: int64"
      ]
     },
     "execution_count": 4,
     "metadata": {},
     "output_type": "execute_result"
    }
   ],
   "source": [
    "df.select_dtypes(include='object').nunique()"
   ]
  },
  {
   "cell_type": "markdown",
   "id": "fbe06bde",
   "metadata": {},
   "source": [
    "<br>\n",
    "Le code ci-dessous extrait les colonnes: \n",
    "\n",
    "- Year, \n",
    "- Month, \n",
    "- DayofMonth,\n",
    "- ArrDelay\n",
    "\n",
    "du DataFrame df et les assigne à un nouveau DataFrame appelé retard."
   ]
  },
  {
   "cell_type": "code",
   "execution_count": 5,
   "id": "1dff7e58",
   "metadata": {},
   "outputs": [],
   "source": [
    "retard = df[['Year','Month','DayofMonth','ArrDelay', 'DepDelay']]"
   ]
  },
  {
   "cell_type": "markdown",
   "id": "46a69486",
   "metadata": {},
   "source": [
    "<br><br>\n",
    "`retard.head()`, cela affiche les cinq premières lignes du DataFrame retard, qui nous aide d'obtenir un aperçu rapide et globales sur les données existes."
   ]
  },
  {
   "cell_type": "code",
   "execution_count": 6,
   "id": "3d280ac2",
   "metadata": {},
   "outputs": [
    {
     "data": {
      "text/html": [
       "<div>\n",
       "<style scoped>\n",
       "    .dataframe tbody tr th:only-of-type {\n",
       "        vertical-align: middle;\n",
       "    }\n",
       "\n",
       "    .dataframe tbody tr th {\n",
       "        vertical-align: top;\n",
       "    }\n",
       "\n",
       "    .dataframe thead th {\n",
       "        text-align: right;\n",
       "    }\n",
       "</style>\n",
       "<table border=\"1\" class=\"dataframe\">\n",
       "  <thead>\n",
       "    <tr style=\"text-align: right;\">\n",
       "      <th></th>\n",
       "      <th>Year</th>\n",
       "      <th>Month</th>\n",
       "      <th>DayofMonth</th>\n",
       "      <th>ArrDelay</th>\n",
       "      <th>DepDelay</th>\n",
       "    </tr>\n",
       "  </thead>\n",
       "  <tbody>\n",
       "    <tr>\n",
       "      <th>0</th>\n",
       "      <td>2008</td>\n",
       "      <td>1</td>\n",
       "      <td>3</td>\n",
       "      <td>-14.0</td>\n",
       "      <td>8.0</td>\n",
       "    </tr>\n",
       "    <tr>\n",
       "      <th>1</th>\n",
       "      <td>2008</td>\n",
       "      <td>1</td>\n",
       "      <td>3</td>\n",
       "      <td>2.0</td>\n",
       "      <td>19.0</td>\n",
       "    </tr>\n",
       "    <tr>\n",
       "      <th>2</th>\n",
       "      <td>2008</td>\n",
       "      <td>1</td>\n",
       "      <td>3</td>\n",
       "      <td>14.0</td>\n",
       "      <td>8.0</td>\n",
       "    </tr>\n",
       "    <tr>\n",
       "      <th>3</th>\n",
       "      <td>2008</td>\n",
       "      <td>1</td>\n",
       "      <td>3</td>\n",
       "      <td>34.0</td>\n",
       "      <td>34.0</td>\n",
       "    </tr>\n",
       "    <tr>\n",
       "      <th>4</th>\n",
       "      <td>2008</td>\n",
       "      <td>1</td>\n",
       "      <td>3</td>\n",
       "      <td>11.0</td>\n",
       "      <td>25.0</td>\n",
       "    </tr>\n",
       "  </tbody>\n",
       "</table>\n",
       "</div>"
      ],
      "text/plain": [
       "   Year  Month  DayofMonth  ArrDelay  DepDelay\n",
       "0  2008      1           3     -14.0       8.0\n",
       "1  2008      1           3       2.0      19.0\n",
       "2  2008      1           3      14.0       8.0\n",
       "3  2008      1           3      34.0      34.0\n",
       "4  2008      1           3      11.0      25.0"
      ]
     },
     "execution_count": 6,
     "metadata": {},
     "output_type": "execute_result"
    }
   ],
   "source": [
    "retard.head()"
   ]
  },
  {
   "cell_type": "markdown",
   "id": "f6226f67",
   "metadata": {},
   "source": [
    "\n",
    "\n",
    "`retard.describe()`, cela nous donne une vision globale au propos nos donnees graces aux resultas statistiques."
   ]
  },
  {
   "cell_type": "code",
   "execution_count": 7,
   "id": "1cd3c5b7",
   "metadata": {},
   "outputs": [
    {
     "data": {
      "text/html": [
       "<div>\n",
       "<style scoped>\n",
       "    .dataframe tbody tr th:only-of-type {\n",
       "        vertical-align: middle;\n",
       "    }\n",
       "\n",
       "    .dataframe tbody tr th {\n",
       "        vertical-align: top;\n",
       "    }\n",
       "\n",
       "    .dataframe thead th {\n",
       "        text-align: right;\n",
       "    }\n",
       "</style>\n",
       "<table border=\"1\" class=\"dataframe\">\n",
       "  <thead>\n",
       "    <tr style=\"text-align: right;\">\n",
       "      <th></th>\n",
       "      <th>Year</th>\n",
       "      <th>Month</th>\n",
       "      <th>DayofMonth</th>\n",
       "      <th>ArrDelay</th>\n",
       "      <th>DepDelay</th>\n",
       "    </tr>\n",
       "  </thead>\n",
       "  <tbody>\n",
       "    <tr>\n",
       "      <th>count</th>\n",
       "      <td>1936758.0</td>\n",
       "      <td>1.936758e+06</td>\n",
       "      <td>1.936758e+06</td>\n",
       "      <td>1.928371e+06</td>\n",
       "      <td>1.936758e+06</td>\n",
       "    </tr>\n",
       "    <tr>\n",
       "      <th>mean</th>\n",
       "      <td>2008.0</td>\n",
       "      <td>6.111106e+00</td>\n",
       "      <td>1.575347e+01</td>\n",
       "      <td>4.219988e+01</td>\n",
       "      <td>4.318518e+01</td>\n",
       "    </tr>\n",
       "    <tr>\n",
       "      <th>std</th>\n",
       "      <td>0.0</td>\n",
       "      <td>3.482546e+00</td>\n",
       "      <td>8.776272e+00</td>\n",
       "      <td>5.678472e+01</td>\n",
       "      <td>5.340250e+01</td>\n",
       "    </tr>\n",
       "    <tr>\n",
       "      <th>min</th>\n",
       "      <td>2008.0</td>\n",
       "      <td>1.000000e+00</td>\n",
       "      <td>1.000000e+00</td>\n",
       "      <td>-1.090000e+02</td>\n",
       "      <td>6.000000e+00</td>\n",
       "    </tr>\n",
       "    <tr>\n",
       "      <th>25%</th>\n",
       "      <td>2008.0</td>\n",
       "      <td>3.000000e+00</td>\n",
       "      <td>8.000000e+00</td>\n",
       "      <td>9.000000e+00</td>\n",
       "      <td>1.200000e+01</td>\n",
       "    </tr>\n",
       "    <tr>\n",
       "      <th>50%</th>\n",
       "      <td>2008.0</td>\n",
       "      <td>6.000000e+00</td>\n",
       "      <td>1.600000e+01</td>\n",
       "      <td>2.400000e+01</td>\n",
       "      <td>2.400000e+01</td>\n",
       "    </tr>\n",
       "    <tr>\n",
       "      <th>75%</th>\n",
       "      <td>2008.0</td>\n",
       "      <td>9.000000e+00</td>\n",
       "      <td>2.300000e+01</td>\n",
       "      <td>5.600000e+01</td>\n",
       "      <td>5.300000e+01</td>\n",
       "    </tr>\n",
       "    <tr>\n",
       "      <th>max</th>\n",
       "      <td>2008.0</td>\n",
       "      <td>1.200000e+01</td>\n",
       "      <td>3.100000e+01</td>\n",
       "      <td>2.461000e+03</td>\n",
       "      <td>2.467000e+03</td>\n",
       "    </tr>\n",
       "  </tbody>\n",
       "</table>\n",
       "</div>"
      ],
      "text/plain": [
       "            Year         Month    DayofMonth      ArrDelay      DepDelay\n",
       "count  1936758.0  1.936758e+06  1.936758e+06  1.928371e+06  1.936758e+06\n",
       "mean      2008.0  6.111106e+00  1.575347e+01  4.219988e+01  4.318518e+01\n",
       "std          0.0  3.482546e+00  8.776272e+00  5.678472e+01  5.340250e+01\n",
       "min       2008.0  1.000000e+00  1.000000e+00 -1.090000e+02  6.000000e+00\n",
       "25%       2008.0  3.000000e+00  8.000000e+00  9.000000e+00  1.200000e+01\n",
       "50%       2008.0  6.000000e+00  1.600000e+01  2.400000e+01  2.400000e+01\n",
       "75%       2008.0  9.000000e+00  2.300000e+01  5.600000e+01  5.300000e+01\n",
       "max       2008.0  1.200000e+01  3.100000e+01  2.461000e+03  2.467000e+03"
      ]
     },
     "execution_count": 7,
     "metadata": {},
     "output_type": "execute_result"
    }
   ],
   "source": [
    "retard.describe()"
   ]
  },
  {
   "cell_type": "markdown",
   "id": "76246fd1",
   "metadata": {},
   "source": [
    "\n",
    "Ces lignes de code effectuent les opérations suivantes :\n",
    "\n",
    "- `retard.dropna(inplace=True)`, supprition les lignes du DataFrame *retard* qui contiennent des valeurs manquantes **(NaN)** dans l'une des colonnes. L'argument **inplace=True** est utilisé pour appliquer les modifications directement au DataFrame.\n",
    "\n",
    "- `retard['ArrDelay'].isnull().sum()`, Vérification du nouveau s'il y a des valeurs manquantes dans la colonne \"ArrDelay\" du DataFrame retard. \n",
    "\n",
    "\n"
   ]
  },
  {
   "cell_type": "code",
   "execution_count": 8,
   "id": "9b236a4c",
   "metadata": {},
   "outputs": [
    {
     "name": "stderr",
     "output_type": "stream",
     "text": [
      "C:\\Users\\simoc\\AppData\\Local\\Temp\\ipykernel_12852\\1547718528.py:1: SettingWithCopyWarning: \n",
      "A value is trying to be set on a copy of a slice from a DataFrame\n",
      "\n",
      "See the caveats in the documentation: https://pandas.pydata.org/pandas-docs/stable/user_guide/indexing.html#returning-a-view-versus-a-copy\n",
      "  retard.dropna(inplace=True)\n"
     ]
    },
    {
     "data": {
      "text/plain": [
       "0"
      ]
     },
     "execution_count": 8,
     "metadata": {},
     "output_type": "execute_result"
    }
   ],
   "source": [
    "retard.dropna(inplace=True)\n",
    "retard['ArrDelay'].isnull().sum()"
   ]
  },
  {
   "cell_type": "markdown",
   "id": "098ad064",
   "metadata": {},
   "source": [
    "<br>\n",
    "\n",
    "`retard.shape`, Obtention de la taille du DataFrame **retard**: \n",
    "- (1928371, 4), $(1.928.341 lignes, 4 colonnes)$"
   ]
  },
  {
   "cell_type": "code",
   "execution_count": 9,
   "id": "546b8c88",
   "metadata": {},
   "outputs": [
    {
     "name": "stdout",
     "output_type": "stream",
     "text": [
      "(1928371 lignes, 5 columns)\n"
     ]
    }
   ],
   "source": [
    "lignes = retard.shape[0]\n",
    "column = retard.shape[1]\n",
    "print(\"(\" + str(lignes) +  \" lignes, \" + str(column) + \" columns)\")"
   ]
  },
  {
   "cell_type": "markdown",
   "id": "c4394a82",
   "metadata": {},
   "source": [
    "### Calcule de l'Esperance et de Variance:"
   ]
  },
  {
   "cell_type": "markdown",
   "id": "8aa85ae7",
   "metadata": {},
   "source": [
    "\n",
    "Voici ce que chaque ligne de code fait :\n",
    "- `esperance = np.mean(retard['ArrDelay'])`, Calculee du moyenne de la colonne **ArrDelay** dans le DataFrame retard.\n",
    "- `variance = np.var(retard['ArrDelay'])`, Calculer la variance de la colonne **ArrDelay** dans le DataFrame retard. \n"
   ]
  },
  {
   "cell_type": "code",
   "execution_count": 10,
   "id": "01dda025",
   "metadata": {},
   "outputs": [
    {
     "name": "stdout",
     "output_type": "stream",
     "text": [
      "Moyenne :  42.19988477321014\n",
      "Variance :  3224.5022011009587\n"
     ]
    }
   ],
   "source": [
    "esperance = np.mean(retard['ArrDelay'])\n",
    "variance = np.var(retard['ArrDelay'])\n",
    "print(\"Moyenne : \", esperance)\n",
    "print(\"Variance : \", variance)"
   ]
  },
  {
   "cell_type": "markdown",
   "id": "6886a89c",
   "metadata": {},
   "source": [
    "### Calcule des Paramètres de la Distribution Gamma :"
   ]
  },
  {
   "cell_type": "markdown",
   "id": "02028799",
   "metadata": {},
   "source": [
    "\n",
    "Ces lignes de code calculent les paramètres de la **loi gamma**, à savoir: \n",
    "- `Echelle`- $\\theta$, \n",
    "$$\\begin{align*}  \n",
    "\\;  \\theta &= \\frac{Var(ArrDelay)}{Esp(ArrDelay)} \\tag{3}  \\; \n",
    "\\end{align*}$$\n",
    "\n",
    "- `Forme` - $\\alpha$, \n",
    "$$\\begin{align*}  \n",
    "\\;  \\alpha &= \\frac{Esp(ArrDelay)^2}{Var(ArrDelay)} \\tag{3}  \\; \n",
    "\\end{align*}$$\n",
    "\n",
    "à partir de **l'espérance** (moyenne) et de **la variance** de la colonne **\"ArrDelay\"** dans le DataFrame retard. Les résultats sont affichés en sortie comme suit :\n",
    "\n"
   ]
  },
  {
   "cell_type": "code",
   "execution_count": 11,
   "id": "92bf6322",
   "metadata": {},
   "outputs": [
    {
     "name": "stdout",
     "output_type": "stream",
     "text": [
      "θ :  76.4102134029517\n",
      "a :  0.5522806820426963\n"
     ]
    }
   ],
   "source": [
    "θ = variance / esperance\n",
    "a = (esperance**2) / variance\n",
    "print(\"θ : \", θ)\n",
    "print(\"a : \", a)"
   ]
  },
  {
   "cell_type": "markdown",
   "id": "900c4a8c",
   "metadata": {},
   "source": [
    "### Visualisation de la Fonction Densité et de Repartition"
   ]
  },
  {
   "cell_type": "markdown",
   "id": "3b54533b",
   "metadata": {},
   "source": [
    "Ce code trace: \n",
    "- la Fonction de Densité $f_{α,β}$.\n",
    "- La Fonction de Répartition $F$ de la Distribution Gamma.\n",
    "\n",
    "en se basant sur les parametres $\\theta, \\alpha$ estimée."
   ]
  },
  {
   "cell_type": "code",
   "execution_count": 12,
   "id": "1eb02066",
   "metadata": {},
   "outputs": [
    {
     "data": {
      "image/png": "[encoded data removed]",
      "text/plain": [
       "<Figure size 640x480 with 1 Axes>"
      ]
     },
     "metadata": {},
     "output_type": "display_data"
    }
   ],
   "source": [
    "# Paramètres estimés de la loi gamma\n",
    "\n",
    "# Plage de valeurs\n",
    "x = np.linspace(0, 10, 1000)\n",
    "\n",
    "# Tracé de la fonction de densité de probabilité (PDF)\n",
    "pdf = stats.gamma.pdf(x, a, scale=θ)\n",
    "plt.plot(x, pdf, 'r-', label='Fonction de Densité')\n",
    "\n",
    "# Tracé de la fonction de répartition (CDF)\n",
    "cdf = stats.gamma.cdf(x, a, scale=θ)\n",
    "plt.plot(x, cdf, 'b-', label='Fonction de Répartion')\n",
    "\n",
    "# Étiquettes et titre du graphique\n",
    "plt.xlabel('Valeur')\n",
    "plt.ylabel('Probabilité')\n",
    "plt.title('PDF et CDF de la distribution gamma')\n",
    "\n",
    "# Légende\n",
    "plt.legend()\n",
    "\n",
    "# Affichage du graphique\n",
    "plt.show()"
   ]
  },
  {
   "cell_type": "markdown",
   "id": "8ba83529",
   "metadata": {},
   "source": [
    "Voici ce que chaque partie du code fait :\n",
    "- `x = np.linspace(0, 10, 1000)`, Création un tableau de *1000* valeurs équidistantes entre $[0, 10]$. Ces valeurs seront utilisées comme points de données pour tracer la $f_{α,β}$. et la $F$.\n",
    "- `pdf = stats.gamma.pdf(x, a, scale=θ)`, Calculation des valeurs de la $f_{α,β}$ de la distribution gamma. Les paramètres $\\alpha$ et $\\theta$ sont passés à cette fonction pour spécifier la forme et l'échelle de la Distribution Gamma.\n",
    "- `plt.plot(x, pdf, 'r-', label='Fonction de Densité')`, Tracage du courbe de la $f_{α,β}$. L'argument **r-** spécifie que la courbe sera tracée en rouge avec une ligne pleine. L'étiquette 'Fonction de Densité' est spécifiée pour la légende.\n",
    "- `cdf = stats.gamma.cdf(x, a, scale=θ)`, Calculation les valeurs de la $F$. de la Distribution Gamma .Les paramètres $\\alpha$ et $\\theta$ sont passés à cette fonction pour spécifier la forme et l'échelle de la distribution gamma. \n",
    "- `plt.plot(x, cdf, 'b-', label='Fonction de Répartition')`, Cette ligne de code trace la courbe de la $F$. L'argument **'b-'** spécifie que la courbe sera tracée en bleu avec une ligne pleine. L'étiquette 'Fonction de Répartition' est spécifiée pour la légende.\n",
    "- `plt.xlabel('Valeur')`, Ajoute d'une étiquette à l'axe des abscisses du graphique, indiquant la valeur.\n",
    "- `plt.ylabel('Probabilité')`, Ajoute une étiquette à l'axe des ordonnées du graphique, indiquant la probabilité.\n",
    "- `plt.title('PDF et CDF de la distribution gamma')`, Ajoute un titre au graphique, indiquant le type de distribution et les fonctions tracées.\n",
    "- `plt.legend()`,  Ajoute une légende au graphique, affichant les étiquettes des courbes tracées.\n",
    "- `plt.show()`, Affichage du graphique."
   ]
  },
  {
   "cell_type": "markdown",
   "id": "afce4ca0",
   "metadata": {},
   "source": [
    "### Calcule du Probabilite pour une Durée de retard Donnée:"
   ]
  },
  {
   "cell_type": "markdown",
   "id": "bfe7b568",
   "metadata": {},
   "source": [
    "\n",
    "Cette fonction, calculer_probabilite_retard, est utilisée pour calculer la probabilité d'avoir un retard inférieur à une valeur donnée, en utilisant les paramètres de forme (a) et d'échelle (θ) de la loi gamma.\n",
    "\n",
    "Voici ce que chaque partie du code fait :\n",
    "\n",
    "- **def calculer_probabilite_retard(retard, a, θ)**: : Cette ligne de code définit la fonction **calculer_probabilite_retard** qui prend trois paramètres en entrée : **retard**, représentant le retard pour lequel nous voulons calculer la probabilité, **a**, le paramètre de forme de la loi **gamma**, et **θ**, le paramètre d'échelle de la loi gamma.\n",
    "- **prob = stats.gamma.cdf(retard, a, scale=θ)** : Cette ligne de code utilise la fonction **stats.gamma.cdf()** de la bibliothèque **SciPy** pour calculer la fonction de répartition **(CDF)** de la loi **gamma** pour la valeur retard, en utilisant les paramètres a et θ. La probabilité calculée est assignée à la variable prob.\n"
   ]
  },
  {
   "cell_type": "code",
   "execution_count": null,
   "id": "d0006bf3",
   "metadata": {},
   "outputs": [],
   "source": [
    "\n",
    "def calculer_probabilite_retard(retard, a, θ):\n",
    "    prob = stats.gamma.cdf(retard, a, scale=θ)\n",
    "    return prob\n",
    "\n",
    "# Exemple d'utilisation de la fonction\n",
    "retard = float(input())\n",
    "\n",
    "probabilite = calculer_probabilite_retard(retard, a, θ)\n",
    "print(\"La probabilité d'avoir un retard inferieur à\", retard, \"est:\", probabilite)\n"
   ]
  }
 ],
 "metadata": {
  "kernelspec": {
   "display_name": "Python 3 (ipykernel)",
   "language": "python",
   "name": "python3"
  },
  "language_info": {
   "codemirror_mode": {
    "name": "ipython",
    "version": 3
   },
   "file_extension": ".py",
   "mimetype": "text/x-python",
   "name": "python",
   "nbconvert_exporter": "python",
   "pygments_lexer": "ipython3",
   "version": "3.10.9"
  }
 },
 "nbformat": 4,
 "nbformat_minor": 5
}
